{
 "cells": [
  {
   "cell_type": "code",
   "execution_count": 1,
   "id": "f2be9a2e",
   "metadata": {},
   "outputs": [],
   "source": [
    "import json\n",
    "import os\n",
    "\n",
    "def convert(img_size, box):\n",
    "    x1 = box[0]\n",
    "    y1 = box[1]\n",
    "    x2 = box[2]\n",
    "    y2 = box[3]\n",
    "\n",
    "    center_x = (x1 + x2) * 0.5 / img_size[0]\n",
    "    center_y = (y1 + y2) * 0.5 / img_size[1]\n",
    "    w = abs((x2 - x1)) * 1.0 / img_size[0]\n",
    "    h = abs((y2 - y1)) * 1.0 / img_size[1]\n",
    "\n",
    "    return (center_x, center_y, w, h)\n",
    "\n",
    "\n",
    "def decode_json(json_floder_path, json_name):\n",
    "    txt_name = '/Users/apple/Desktop/Final/data_preprocess/txt/val/' + json_name[0:-5] + '.txt'  #txt\\\\ 要改成自己的檔案路徑\n",
    "    txt_file = open(txt_name, 'w')  # te files\n",
    "\n",
    "    json_path = os.path.join(json_folder_path, json_name)\n",
    "    data = json.load(open(json_path, 'r'))\n",
    "\n",
    "    img_w = data['imageWidth']\n",
    "    img_h = data['imageHeight']\n",
    "    for i in data['shapes']:\n",
    "\n",
    "        if (i['shape_type'] == 'rectangle'):\n",
    "\n",
    "            x1 = int(i['points'][0][0])\n",
    "            y1 = int(i['points'][0][1])\n",
    "            x2 = int(i['points'][1][0])\n",
    "            y2 = int(i['points'][1][1])\n",
    "            if x1 < 0 or x2 < 0 or y1 < 0 or y2 < 0:\n",
    "                continue\n",
    "            else:\n",
    "                bb = (x1, y1, x2, y2)\n",
    "                bbox = convert((img_w, img_h), bb)\n",
    "            \"\"\"\n",
    "            #根據你的label新增\n",
    "            leaf blight: 0\n",
    "            angular spot: 1\n",
    "\n",
    "            \"\"\"\n",
    "            if i['label'] == \"0\":\n",
    "                 txt_file.write(\"0 \" + \" \".join([str(a) for a in bbox]) + '\\n')\n",
    "            elif i['label'] == \"1\":\n",
    "                 txt_file.write(\"1 \" + \" \".join([str(a) for a in bbox]) + '\\n')\n",
    "            else:\n",
    "                 txt_file.write(\"2 \" + \" \".join([str(a) for a in bbox]) + '\\n')"
   ]
  },
  {
   "cell_type": "code",
   "execution_count": 2,
   "id": "ffaa4d07",
   "metadata": {},
   "outputs": [],
   "source": [
    "if __name__ == \"__main__\":\n",
    "    json_folder_path = '/Users/apple/Desktop/Final/split_data/val_label/'        # path  改檔案路徑\n",
    "    json_names = os.listdir(json_folder_path)  # file name\n",
    "    for json_name in json_names:  # output all files\n",
    "        if json_name[-5:] == '.json':  # just work for json files\n",
    "            decode_json(json_folder_path, json_name)"
   ]
  },
  {
   "cell_type": "code",
   "execution_count": null,
   "id": "c70f906d",
   "metadata": {},
   "outputs": [],
   "source": []
  }
 ],
 "metadata": {
  "kernelspec": {
   "display_name": "Python 3.8.9 64-bit",
   "language": "python",
   "name": "python3"
  },
  "language_info": {
   "codemirror_mode": {
    "name": "ipython",
    "version": 3
   },
   "file_extension": ".py",
   "mimetype": "text/x-python",
   "name": "python",
   "nbconvert_exporter": "python",
   "pygments_lexer": "ipython3",
   "version": "3.8.9"
  },
  "vscode": {
   "interpreter": {
    "hash": "31f2aee4e71d21fbe5cf8b01ff0e069b9275f58929596ceb00d14d90e3e16cd6"
   }
  }
 },
 "nbformat": 4,
 "nbformat_minor": 5
}
